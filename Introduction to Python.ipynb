{
 "cells": [
  {
   "cell_type": "markdown",
   "id": "8ec9ab40-3c3d-44dd-9b52-60aa7b8f76a5",
   "metadata": {},
   "source": [
    "# Variables and Types"
   ]
  },
  {
   "cell_type": "markdown",
   "id": "a9360b8e-a671-43a6-b0f0-f78d72d462db",
   "metadata": {},
   "source": [
    "### Be Pythonic - Dynamic Typing"
   ]
  },
  {
   "cell_type": "code",
   "execution_count": 1,
   "id": "0fc28ce8-8ff4-4c9b-9dd3-5aa1c50ceff9",
   "metadata": {},
   "outputs": [
    {
     "name": "stdout",
     "output_type": "stream",
     "text": [
      "<class 'int'>\n"
     ]
    }
   ],
   "source": [
    "# implicit integer data type assignment\n",
    "x = 10\n",
    "print(type(x))"
   ]
  },
  {
   "cell_type": "code",
   "execution_count": 2,
   "id": "f2997584-b226-4c64-a42a-8e9019741d01",
   "metadata": {},
   "outputs": [
    {
     "name": "stdout",
     "output_type": "stream",
     "text": [
      "<class 'str'>\n"
     ]
    }
   ],
   "source": [
    "# implicit string data type assignment\n",
    "x = \"hello world\"\n",
    "print(type(x))"
   ]
  },
  {
   "cell_type": "code",
   "execution_count": 3,
   "id": "bc29afd2-5b64-472d-a8b5-a3dd05ba9bea",
   "metadata": {},
   "outputs": [
    {
     "name": "stdout",
     "output_type": "stream",
     "text": [
      "<class 'float'>\n"
     ]
    }
   ],
   "source": [
    "# implicit float data type assignment\n",
    "x = 10.0\n",
    "print(type(x))"
   ]
  },
  {
   "cell_type": "markdown",
   "id": "347bba08-336b-45c6-89b3-8c81f9e88837",
   "metadata": {},
   "source": [
    "## Casting"
   ]
  },
  {
   "cell_type": "markdown",
   "id": "89461d53",
   "metadata": {},
   "source": [
    "Casting is used to change data type of value stored in a variable.\n",
    "For e.g., `str(10)` will cast the integer 10 to string `\"10\"` "
   ]
  },
  {
   "cell_type": "code",
   "execution_count": 4,
   "id": "34e63759-9c4e-4d52-b91e-1b93f91e2e44",
   "metadata": {},
   "outputs": [
    {
     "name": "stdout",
     "output_type": "stream",
     "text": [
      "<class 'str'>\n",
      "10\n"
     ]
    }
   ],
   "source": [
    "x = str(10)\n",
    "print(type(x))\n",
    "print(x)"
   ]
  },
  {
   "cell_type": "code",
   "execution_count": 5,
   "id": "db3ab9c1-486d-45fa-80ab-7ceaecb35bed",
   "metadata": {},
   "outputs": [
    {
     "name": "stdout",
     "output_type": "stream",
     "text": [
      "<class 'int'>\n",
      "10\n"
     ]
    }
   ],
   "source": [
    "x = int(\"10\")\n",
    "print(type(x))\n",
    "print(x)"
   ]
  },
  {
   "cell_type": "markdown",
   "id": "9a05a592-f023-4e85-961f-1347d0c5e01b",
   "metadata": {},
   "source": [
    "### Type Hints"
   ]
  },
  {
   "cell_type": "markdown",
   "id": "2aea8f8c-b0ba-423c-a756-1f1cf04e76a6",
   "metadata": {},
   "source": [
    "In strictly typed languages like C the below assignment would not be allowed if x is declared as an integer\n",
    "However, Type Hints in Python are only for documentation, the variable can still be dynamically typed\n",
    "If static typing is a requirement, libraries like [pyright](https://microsoft.github.io/pyright/#/) can be used to check instances of initializations that violate the Type Hint"
   ]
  },
  {
   "cell_type": "code",
   "execution_count": null,
   "id": "aa14f9e1-88eb-4f9f-b33e-03122c8371bc",
   "metadata": {},
   "outputs": [],
   "source": [
    "x: int = 10"
   ]
  },
  {
   "cell_type": "markdown",
   "id": "7df9a949-17c8-4159-9e2f-339433b86674",
   "metadata": {},
   "source": [
    "# Use Libraries"
   ]
  },
  {
   "cell_type": "markdown",
   "id": "d47fbbca",
   "metadata": {},
   "source": [
    "List all contents of current directory using the `os` library module's \n",
    "`listdir` function."
   ]
  },
  {
   "cell_type": "code",
   "execution_count": 6,
   "id": "d36405cb-ff53-47ce-a507-c607a1291b93",
   "metadata": {},
   "outputs": [
    {
     "data": {
      "text/plain": [
       "['hcl_env',\n",
       " 'requirements.txt',\n",
       " 'README.md',\n",
       " '.gitignore',\n",
       " 'Introduction to Python.ipynb',\n",
       " '.ipynb_checkpoints',\n",
       " '.git',\n",
       " 'sample_files']"
      ]
     },
     "execution_count": 6,
     "metadata": {},
     "output_type": "execute_result"
    }
   ],
   "source": [
    "import os\n",
    "# Note: in Jupter Notebooks, the last line of code can be displayed directly without using print\n",
    "os.listdir()"
   ]
  },
  {
   "cell_type": "code",
   "execution_count": 7,
   "id": "3779056d-05e6-4edb-8cb2-982f1df5f55b",
   "metadata": {},
   "outputs": [
    {
     "data": {
      "text/plain": [
       "['hcl_env',\n",
       " 'requirements.txt',\n",
       " 'README.md',\n",
       " '.gitignore',\n",
       " 'Introduction to Python.ipynb',\n",
       " '.ipynb_checkpoints',\n",
       " '.git',\n",
       " 'sample_files']"
      ]
     },
     "execution_count": 7,
     "metadata": {},
     "output_type": "execute_result"
    }
   ],
   "source": [
    "import os as my_os\n",
    "my_os.listdir()"
   ]
  },
  {
   "cell_type": "code",
   "execution_count": 8,
   "id": "4f9ca0cb-b125-4046-85e2-7a47594c86d2",
   "metadata": {},
   "outputs": [
    {
     "data": {
      "text/plain": [
       "['hcl_env',\n",
       " 'requirements.txt',\n",
       " 'README.md',\n",
       " '.gitignore',\n",
       " 'Introduction to Python.ipynb',\n",
       " '.ipynb_checkpoints',\n",
       " '.git',\n",
       " 'sample_files']"
      ]
     },
     "execution_count": 8,
     "metadata": {},
     "output_type": "execute_result"
    }
   ],
   "source": [
    "from os import listdir\n",
    "listdir()"
   ]
  },
  {
   "cell_type": "code",
   "execution_count": 9,
   "id": "e33a6d14-96c6-4b0a-a8d2-a78fdd7d95fc",
   "metadata": {},
   "outputs": [
    {
     "data": {
      "text/plain": [
       "['hcl_env',\n",
       " 'requirements.txt',\n",
       " 'README.md',\n",
       " '.gitignore',\n",
       " 'Introduction to Python.ipynb',\n",
       " '.ipynb_checkpoints',\n",
       " '.git',\n",
       " 'sample_files']"
      ]
     },
     "execution_count": 9,
     "metadata": {},
     "output_type": "execute_result"
    }
   ],
   "source": [
    "from os import listdir as ls\n",
    "ls()"
   ]
  },
  {
   "cell_type": "markdown",
   "id": "c9b2b5fa-27d7-446b-a25e-e86e7f2d84df",
   "metadata": {},
   "source": [
    "# Functions"
   ]
  },
  {
   "cell_type": "code",
   "execution_count": 10,
   "id": "bb777ab5-0c54-4a9e-be73-68f5eddf0c62",
   "metadata": {},
   "outputs": [
    {
     "name": "stdout",
     "output_type": "stream",
     "text": [
      "Hi I think you said \"hello world\". Is that right?\n"
     ]
    }
   ],
   "source": [
    "def custom_print(str_to_print):\n",
    "    print(f\"Hi I think you said \\\"{str_to_print}\\\". Is that right?\")\n",
    "\n",
    "custom_print(\"hello world\")"
   ]
  },
  {
   "cell_type": "markdown",
   "id": "f8381e65-6288-4a5e-8716-9451b05d5292",
   "metadata": {},
   "source": [
    "### Recursion"
   ]
  },
  {
   "cell_type": "code",
   "execution_count": 11,
   "id": "2b37f396-0b65-4d9f-a7d4-d94658ba17db",
   "metadata": {},
   "outputs": [
    {
     "data": {
      "text/plain": [
       "120"
      ]
     },
     "execution_count": 11,
     "metadata": {},
     "output_type": "execute_result"
    }
   ],
   "source": [
    "def factorial(n):\n",
    "    if n == 1:\n",
    "        return n\n",
    "    else:\n",
    "        return n * factorial(n-1)\n",
    "\n",
    "factorial(5)"
   ]
  },
  {
   "cell_type": "markdown",
   "id": "9a3e237a-9c24-49fe-9252-b4ee6896b4c2",
   "metadata": {},
   "source": [
    "### Be Pythonic - Type Hints"
   ]
  },
  {
   "cell_type": "code",
   "execution_count": null,
   "id": "8298e2d0-28f8-4598-abbe-40ef7b92847b",
   "metadata": {},
   "outputs": [],
   "source": [
    "def factorial(n: int) -> int:\n",
    "    if n == 1:\n",
    "        return n\n",
    "    else:\n",
    "        return n * factorial(n-1)\n",
    "\n",
    "factorial(5)"
   ]
  },
  {
   "cell_type": "markdown",
   "id": "b655725c-83f6-43d0-b2bc-2e43dfaa24c3",
   "metadata": {},
   "source": [
    "### Default values"
   ]
  },
  {
   "cell_type": "code",
   "execution_count": 12,
   "id": "97b4ace5-61d9-4250-a174-d49fa92fc126",
   "metadata": {},
   "outputs": [
    {
     "name": "stdout",
     "output_type": "stream",
     "text": [
      "Hello Jill\n",
      "#######\n",
      "This is a greeting message\n",
      "HELLO JILL\n",
      "#######\n",
      "This is a greeting message\n",
      "Hello Jill\n"
     ]
    }
   ],
   "source": [
    "def greeting(name, shout=False, context=False):\n",
    "    if context:\n",
    "        print(\"This is a greeting message\")\n",
    "    if shout:\n",
    "        # Print in upper case\n",
    "        print(f\"Hello {name}\".upper())\n",
    "    else:\n",
    "        print(f\"Hello {name}\")\n",
    "\n",
    "greeting(\"Jill\")\n",
    "print(\"#######\")\n",
    "greeting(\"Jill\", True, True)\n",
    "print(\"#######\")\n",
    "\n",
    "# Note: function call with keyword arguments need not follow same positional order as in function definition\n",
    "greeting(\"Jill\", context=True, shout=False)"
   ]
  },
  {
   "cell_type": "markdown",
   "id": "037bde72-2647-4201-bd2a-829537bc8e94",
   "metadata": {},
   "source": [
    "### Using args and kwargs"
   ]
  },
  {
   "cell_type": "markdown",
   "id": "794cf3cf-c5ca-40cd-b2fb-ad45f0052f4f",
   "metadata": {},
   "source": [
    "You can pass any number of additional arguments to a function by including `*args` at the end of known parameters. You can also include any number of keyword arguments by including `**kwargs` at the end. Note that `args` and `kwargs` can be replaced with any variable name, they are just conventional names used in Python"
   ]
  },
  {
   "cell_type": "code",
   "execution_count": 13,
   "id": "4525405a-23ec-4883-8057-184c540f1e24",
   "metadata": {},
   "outputs": [
    {
     "name": "stdout",
     "output_type": "stream",
     "text": [
      "HELLO JILL\n",
      "I'm Jack and he is Ben. \n",
      "The time is 2 p.m.\n"
     ]
    }
   ],
   "source": [
    "def greeting(name, shout=False, *args):\n",
    "    if shout:\n",
    "        # Print in upper case\n",
    "        print(f\"Hello {name}\".upper())\n",
    "    else:\n",
    "        print(f\"Hello {name}\")\n",
    "\n",
    "    if args:\n",
    "        print(*args)\n",
    "\n",
    "greeting(\"Jill\", True, \"I'm Jack\", \"and he is Ben.\", \"\\nThe time is\", 2, \"p.m.\")"
   ]
  },
  {
   "cell_type": "code",
   "execution_count": 14,
   "id": "584d6dfa-e611-4e81-8069-7a6f1fa3bc40",
   "metadata": {},
   "outputs": [
    {
     "name": "stdout",
     "output_type": "stream",
     "text": [
      "HELLO JILL\n",
      "I'm Jack and he is Ben. \n",
      "The time is 2 p.m.\n",
      "Today is a warm day\n"
     ]
    }
   ],
   "source": [
    "def greeting(name, shout=False, *args, **kwargs):\n",
    "    if shout:\n",
    "        # Print in upper case\n",
    "        print(f\"Hello {name}\".upper())\n",
    "    else:\n",
    "        print(f\"Hello {name}\")\n",
    "\n",
    "    if args:\n",
    "        print(*args)\n",
    "\n",
    "    if kwargs and 'weather' in kwargs:\n",
    "        print(f\"Today is a {kwargs['weather']} day\")\n",
    "\n",
    "greeting(\"Jill\", True, \"I'm Jack\", \"and he is Ben.\", \"\\nThe time is\", 2, \"p.m.\", weather=\"warm\")"
   ]
  },
  {
   "cell_type": "markdown",
   "id": "a688b556-5355-4868-92a8-23fe8d966e33",
   "metadata": {},
   "source": [
    "# Strings"
   ]
  },
  {
   "cell_type": "code",
   "execution_count": 15,
   "id": "6ac5a91b-5075-4300-9029-3b655cada733",
   "metadata": {},
   "outputs": [],
   "source": [
    "test_string = \"hello world\""
   ]
  },
  {
   "cell_type": "code",
   "execution_count": 16,
   "id": "8072ca0a-044d-4df0-b1f2-d46a484fe1cc",
   "metadata": {},
   "outputs": [
    {
     "data": {
      "text/plain": [
       "11"
      ]
     },
     "execution_count": 16,
     "metadata": {},
     "output_type": "execute_result"
    }
   ],
   "source": [
    "len(test_string)"
   ]
  },
  {
   "cell_type": "code",
   "execution_count": 17,
   "id": "e00ba9f0-e860-4d2a-93f5-fd73ca99aa4a",
   "metadata": {},
   "outputs": [
    {
     "data": {
      "text/plain": [
       "'HELLO WORLD'"
      ]
     },
     "execution_count": 17,
     "metadata": {},
     "output_type": "execute_result"
    }
   ],
   "source": [
    "test_string.upper()"
   ]
  },
  {
   "cell_type": "code",
   "execution_count": 21,
   "id": "4ee4f3e9-8a8f-4756-aca3-cbbe7bb93cfc",
   "metadata": {},
   "outputs": [
    {
     "data": {
      "text/plain": [
       "'w'"
      ]
     },
     "execution_count": 21,
     "metadata": {},
     "output_type": "execute_result"
    }
   ],
   "source": [
    "test_string[0]"
   ]
  },
  {
   "cell_type": "markdown",
   "id": "aeb94bf8-08ac-48e5-a942-6ba1483a3d4a",
   "metadata": {},
   "source": [
    "### Be Pythonic - Slicing strings"
   ]
  },
  {
   "cell_type": "code",
   "execution_count": 23,
   "id": "140e5574-dada-40b6-bde0-5c3dce16c226",
   "metadata": {},
   "outputs": [
    {
     "data": {
      "text/plain": [
       "'hell'"
      ]
     },
     "execution_count": 23,
     "metadata": {},
     "output_type": "execute_result"
    }
   ],
   "source": [
    "# Start index is included but end index is excluded\n",
    "test_string[0:3]"
   ]
  },
  {
   "cell_type": "code",
   "execution_count": 36,
   "id": "89dab213-4545-4331-aba1-bcd64dad582d",
   "metadata": {},
   "outputs": [
    {
     "data": {
      "text/plain": [
       "'l'"
      ]
     },
     "execution_count": 36,
     "metadata": {},
     "output_type": "execute_result"
    }
   ],
   "source": [
    "# Negative indices will begin parsing in reverse\n",
    "test_string[-2]"
   ]
  },
  {
   "cell_type": "code",
   "execution_count": 25,
   "id": "60cb27a2-54b1-43c8-a318-60792b10f3fb",
   "metadata": {},
   "outputs": [
    {
     "data": {
      "text/plain": [
       "'hello worl'"
      ]
     },
     "execution_count": 25,
     "metadata": {},
     "output_type": "execute_result"
    }
   ],
   "source": [
    "test_string[0:-1]"
   ]
  },
  {
   "cell_type": "code",
   "execution_count": 26,
   "id": "58d7e6a9-3247-428c-b4a2-850d3285f7e3",
   "metadata": {},
   "outputs": [
    {
     "data": {
      "text/plain": [
       "'hello world'"
      ]
     },
     "execution_count": 26,
     "metadata": {},
     "output_type": "execute_result"
    }
   ],
   "source": [
    "test_string[0:]"
   ]
  },
  {
   "cell_type": "code",
   "execution_count": 28,
   "id": "7bae649c-8716-4b01-b93e-f210e7c48ccd",
   "metadata": {},
   "outputs": [
    {
     "data": {
      "text/plain": [
       "'hello world'"
      ]
     },
     "execution_count": 28,
     "metadata": {},
     "output_type": "execute_result"
    }
   ],
   "source": [
    "test_string[:-1]"
   ]
  },
  {
   "cell_type": "code",
   "execution_count": 35,
   "id": "b852df57-1e2f-4a9b-b0c1-a150bddca821",
   "metadata": {},
   "outputs": [
    {
     "data": {
      "text/plain": [
       "'hlowrd'"
      ]
     },
     "execution_count": 35,
     "metadata": {},
     "output_type": "execute_result"
    }
   ],
   "source": [
    "# You can also change the step size while slicing the string. In below example the step size is set to 2\n",
    "test_string[0::2]"
   ]
  },
  {
   "cell_type": "code",
   "execution_count": 37,
   "id": "d4bbde3c-7370-4dee-99db-df7b96b391f7",
   "metadata": {},
   "outputs": [
    {
     "data": {
      "text/plain": [
       "'dlrow olleh'"
      ]
     },
     "execution_count": 37,
     "metadata": {},
     "output_type": "execute_result"
    }
   ],
   "source": [
    "# a negative step size will parse in reverse\n",
    "test_string[-1::-1]"
   ]
  },
  {
   "cell_type": "markdown",
   "id": "a0ae622d-d6c8-4e8f-9417-630197368208",
   "metadata": {},
   "source": [
    "# Control Flow with Conditionals"
   ]
  },
  {
   "cell_type": "markdown",
   "id": "8c1d9a26",
   "metadata": {},
   "source": [
    "Conditional statements evaluate to either `True` or `False` (boolean values)"
   ]
  },
  {
   "cell_type": "code",
   "execution_count": 38,
   "id": "c8652fac",
   "metadata": {},
   "outputs": [
    {
     "data": {
      "text/plain": [
       "True"
      ]
     },
     "execution_count": 38,
     "metadata": {},
     "output_type": "execute_result"
    }
   ],
   "source": [
    "1 < 2"
   ]
  },
  {
   "cell_type": "code",
   "execution_count": 39,
   "id": "b1dfc6a1",
   "metadata": {},
   "outputs": [
    {
     "data": {
      "text/plain": [
       "False"
      ]
     },
     "execution_count": 39,
     "metadata": {},
     "output_type": "execute_result"
    }
   ],
   "source": [
    "1 == 0"
   ]
  },
  {
   "cell_type": "code",
   "execution_count": 40,
   "id": "36171752",
   "metadata": {},
   "outputs": [
    {
     "data": {
      "text/plain": [
       "True"
      ]
     },
     "execution_count": 40,
     "metadata": {},
     "output_type": "execute_result"
    }
   ],
   "source": [
    "1 == 1"
   ]
  },
  {
   "cell_type": "code",
   "execution_count": 41,
   "id": "cb7e1fdf-38f3-441d-a62b-7ecbd5f36ab3",
   "metadata": {},
   "outputs": [
    {
     "name": "stdout",
     "output_type": "stream",
     "text": [
      "True\n"
     ]
    }
   ],
   "source": [
    "if True:\n",
    "    print(\"True\")"
   ]
  },
  {
   "cell_type": "code",
   "execution_count": 42,
   "id": "1b6af021-a6f2-4a8d-a380-c3a1f68565dd",
   "metadata": {},
   "outputs": [
    {
     "name": "stdout",
     "output_type": "stream",
     "text": [
      "x is equal to 5\n"
     ]
    }
   ],
   "source": [
    "x = 5\n",
    "\n",
    "if x < 5:\n",
    "    print(\"x is less than 5\")\n",
    "elif x == 5:\n",
    "    print(\"x is equal to 5\")\n",
    "else:\n",
    "    print(\"x is greater than 5\")"
   ]
  },
  {
   "cell_type": "markdown",
   "id": "b88eac94-cabd-4229-8b6f-fdc5c69c0d24",
   "metadata": {},
   "source": [
    "### Be Pythonic - proxies for False"
   ]
  },
  {
   "cell_type": "markdown",
   "id": "316a75b8-5d64-4b3d-9722-b959a4971f0a",
   "metadata": {},
   "source": [
    "Values like `0`, `\"\"` and [] are considered as `False`"
   ]
  },
  {
   "cell_type": "code",
   "execution_count": 43,
   "id": "e5f8a2f3-09a6-44da-b2d7-e2df9e8c0d3a",
   "metadata": {},
   "outputs": [
    {
     "name": "stdout",
     "output_type": "stream",
     "text": [
      "x is 0\n"
     ]
    }
   ],
   "source": [
    "x = 0\n",
    "if not x: # used instead of `if x != 0`\n",
    "    print(\"x is 0\")"
   ]
  },
  {
   "cell_type": "code",
   "execution_count": 44,
   "id": "564d8ff0-5107-4bc0-a9ef-178cba320bdd",
   "metadata": {},
   "outputs": [
    {
     "name": "stdout",
     "output_type": "stream",
     "text": [
      "x is an empty string\n"
     ]
    }
   ],
   "source": [
    "x = \"\"\n",
    "if not x:\n",
    "    print(\"x is an empty string\")"
   ]
  },
  {
   "cell_type": "code",
   "execution_count": 45,
   "id": "bc4470c1-ed6a-463e-af4d-202a76bec5d2",
   "metadata": {},
   "outputs": [
    {
     "name": "stdout",
     "output_type": "stream",
     "text": [
      "x is an empty list\n"
     ]
    }
   ],
   "source": [
    "x = []\n",
    "if not x:\n",
    "    print(\"x is an empty list\")"
   ]
  },
  {
   "cell_type": "code",
   "execution_count": 46,
   "id": "278198d1-b9f4-4c2d-867d-85147c69f657",
   "metadata": {},
   "outputs": [
    {
     "name": "stdout",
     "output_type": "stream",
     "text": [
      "x is None\n"
     ]
    }
   ],
   "source": [
    "x = None\n",
    "if not x:\n",
    "    print(\"x is None\")"
   ]
  },
  {
   "cell_type": "markdown",
   "id": "30ea3f17-a791-4090-875b-d0d2f663b737",
   "metadata": {},
   "source": [
    "### Be Pythonic - Walrus operator"
   ]
  },
  {
   "cell_type": "markdown",
   "id": "9ab58c07-1717-49df-842f-1e17f92f3496",
   "metadata": {},
   "source": [
    "In the below example,\n",
    "\n",
    "- The walrus operator `:=` is used within the if condition.\n",
    "- `len(name)` calculates the length of the name string.\n",
    "- The result is assigned to the variable `length`.\n",
    "- The if condition then checks if length is greater than 5."
   ]
  },
  {
   "cell_type": "code",
   "execution_count": 47,
   "id": "927ae914-d2df-43ed-af3c-4e366b8c8fb0",
   "metadata": {},
   "outputs": [
    {
     "name": "stdout",
     "output_type": "stream",
     "text": [
      "Your name, Zuckerberg, is longer than 5 characters. It is 10 characters long\n",
      "Your name, Musk, is 5 characters or shorter. It is 4 characters long\n"
     ]
    }
   ],
   "source": [
    "def name_length(name):\n",
    "    if (length := len(name)) > 5:\n",
    "        print(f\"Your name, {name}, is longer than 5 characters. It is {length} characters long\")\n",
    "    else:\n",
    "        print(f\"Your name, {name}, is 5 characters or shorter. It is {length} characters long\")\n",
    "\n",
    "name_length(\"Zuckerberg\")\n",
    "name_length(\"Musk\")"
   ]
  },
  {
   "cell_type": "markdown",
   "id": "06b7f5fd-80d9-4c17-870c-4d3e2c1b7b7c",
   "metadata": {},
   "source": [
    "# Lists"
   ]
  },
  {
   "cell_type": "code",
   "execution_count": 48,
   "id": "847e31ba-aeea-468f-96b1-7e0bc19ce46a",
   "metadata": {},
   "outputs": [],
   "source": [
    "x = [1, 2, 3]"
   ]
  },
  {
   "cell_type": "code",
   "execution_count": 49,
   "id": "a59ba640-1444-4382-aa2f-53654dbab479",
   "metadata": {},
   "outputs": [
    {
     "data": {
      "text/plain": [
       "2"
      ]
     },
     "execution_count": 49,
     "metadata": {},
     "output_type": "execute_result"
    }
   ],
   "source": [
    "x[1]"
   ]
  },
  {
   "cell_type": "code",
   "execution_count": 51,
   "id": "b4fedcd4-e2f5-44bb-9899-aeebc032e011",
   "metadata": {},
   "outputs": [
    {
     "data": {
      "text/plain": [
       "[1, 1, 1, 1, 1, 1, 1, 1, 1, 1, 1, 1, 1, 1, 1, 1, 1, 1, 1, 1]"
      ]
     },
     "execution_count": 51,
     "metadata": {},
     "output_type": "execute_result"
    }
   ],
   "source": [
    "x = [1] * 20\n",
    "x"
   ]
  },
  {
   "cell_type": "code",
   "execution_count": 53,
   "id": "8b313384-1eae-4eea-9d0e-1299e0f9a3d8",
   "metadata": {},
   "outputs": [
    {
     "data": {
      "text/plain": [
       "[1, 2, 3, 1, 2, 3, 1, 2, 3]"
      ]
     },
     "execution_count": 53,
     "metadata": {},
     "output_type": "execute_result"
    }
   ],
   "source": [
    "x = [1, 2, 3] * 3\n",
    "x"
   ]
  },
  {
   "cell_type": "code",
   "execution_count": 54,
   "id": "cd7625cc-5a52-45c6-8809-eba78cfa4b8b",
   "metadata": {},
   "outputs": [
    {
     "data": {
      "text/plain": [
       "[1, '1', 1.0, True]"
      ]
     },
     "execution_count": 54,
     "metadata": {},
     "output_type": "execute_result"
    }
   ],
   "source": [
    "# lists can conist of multiple data type elements\n",
    "x = [1, \"1\", 1.0, True]\n",
    "x"
   ]
  },
  {
   "cell_type": "markdown",
   "id": "0005c31d-3875-48e8-90fb-de2a09e2aa83",
   "metadata": {},
   "source": [
    "### Be Pythonic - Slicing lists"
   ]
  },
  {
   "cell_type": "code",
   "execution_count": 55,
   "id": "c5ecd54e-f04a-482c-8dad-6374aed0d175",
   "metadata": {},
   "outputs": [],
   "source": [
    "x = [1, 2, 3, 4, 5]"
   ]
  },
  {
   "cell_type": "code",
   "execution_count": 56,
   "id": "41e31020-6bb4-426f-b5fd-3c00465351a7",
   "metadata": {},
   "outputs": [
    {
     "data": {
      "text/plain": [
       "[1, 2, 3]"
      ]
     },
     "execution_count": 56,
     "metadata": {},
     "output_type": "execute_result"
    }
   ],
   "source": [
    "x[0:3]"
   ]
  },
  {
   "cell_type": "code",
   "execution_count": 57,
   "id": "48eb4f6f-c613-4547-b333-77d765367b4d",
   "metadata": {},
   "outputs": [
    {
     "data": {
      "text/plain": [
       "[5, 4, 3, 2, 1]"
      ]
     },
     "execution_count": 57,
     "metadata": {},
     "output_type": "execute_result"
    }
   ],
   "source": [
    "x[-1::-1]"
   ]
  },
  {
   "cell_type": "markdown",
   "id": "6da90a38-3adc-412c-bd00-3b86e9c4de50",
   "metadata": {},
   "source": [
    "### Be Pythonic - List Comprehensions"
   ]
  },
  {
   "cell_type": "code",
   "execution_count": 58,
   "id": "35fce9bd-05ac-489d-be65-cc5876f689be",
   "metadata": {},
   "outputs": [
    {
     "data": {
      "text/plain": [
       "[0, 1, 2, 3, 4, 5, 6, 7, 8, 9]"
      ]
     },
     "execution_count": 58,
     "metadata": {},
     "output_type": "execute_result"
    }
   ],
   "source": [
    "# old style of populating lists\n",
    "x = []\n",
    "for i in range(10): # short form of range(0, 10)\n",
    "    x.append(i)\n",
    "\n",
    "x"
   ]
  },
  {
   "cell_type": "code",
   "execution_count": 59,
   "id": "78dba4c7-923c-40b7-abdd-a339d608da06",
   "metadata": {},
   "outputs": [
    {
     "data": {
      "text/plain": [
       "[0, 1, 2, 3, 4, 5, 6, 7, 8, 9]"
      ]
     },
     "execution_count": 59,
     "metadata": {},
     "output_type": "execute_result"
    }
   ],
   "source": [
    "# new style - use list comprehension\n",
    "x = [i for i in range(10)]\n",
    "x"
   ]
  },
  {
   "cell_type": "code",
   "execution_count": 60,
   "id": "ad358bf2-a163-42ea-83d3-866efdad26a8",
   "metadata": {},
   "outputs": [
    {
     "data": {
      "text/plain": [
       "[1, 3, 5, 7, 9]"
      ]
     },
     "execution_count": 60,
     "metadata": {},
     "output_type": "execute_result"
    }
   ],
   "source": [
    "# list comprehension with condition\n",
    "odd_list = [i for i in range(10) if i % 2]\n",
    "odd_list"
   ]
  },
  {
   "cell_type": "markdown",
   "id": "008254c0-0442-4b90-9806-d163d6be6c25",
   "metadata": {},
   "source": [
    "# Dictionaries"
   ]
  },
  {
   "cell_type": "code",
   "execution_count": 61,
   "id": "43f16f53-5bab-4b99-9410-f90ecba895f2",
   "metadata": {},
   "outputs": [],
   "source": [
    "# Python Dictionary\n",
    "\n",
    "# A dictionary is a collection of key-value pairs.\n",
    "# Keys must be unique and immutable (e.g., strings, numbers).\n",
    "# Values can be any data type.\n",
    "\n",
    "# Creating a dictionary\n",
    "my_dict = {\"name\": \"John\", \"age\": 30, \"city\": \"New York\"}"
   ]
  },
  {
   "cell_type": "code",
   "execution_count": 62,
   "id": "54c3c7c2",
   "metadata": {},
   "outputs": [
    {
     "name": "stdout",
     "output_type": "stream",
     "text": [
      "John\n"
     ]
    }
   ],
   "source": [
    "# Accessing values by key\n",
    "print(my_dict[\"name\"])  # Output: John"
   ]
  },
  {
   "cell_type": "code",
   "execution_count": 63,
   "id": "26b647da",
   "metadata": {},
   "outputs": [],
   "source": [
    "# Adding new key-value pairs\n",
    "my_dict[\"occupation\"] = \"Software Engineer\""
   ]
  },
  {
   "cell_type": "code",
   "execution_count": 64,
   "id": "2e63e728",
   "metadata": {},
   "outputs": [],
   "source": [
    "# Modifying existing values\n",
    "my_dict[\"age\"] = 31"
   ]
  },
  {
   "cell_type": "code",
   "execution_count": 65,
   "id": "8cdcd326",
   "metadata": {},
   "outputs": [],
   "source": [
    "# Removing key-value pairs\n",
    "del my_dict[\"city\"]"
   ]
  },
  {
   "cell_type": "code",
   "execution_count": 66,
   "id": "435bc3bd",
   "metadata": {},
   "outputs": [
    {
     "name": "stdout",
     "output_type": "stream",
     "text": [
      "name : John\n",
      "age : 31\n",
      "occupation : Software Engineer\n"
     ]
    }
   ],
   "source": [
    "# Iterating through a dictionary\n",
    "for key, value in my_dict.items():\n",
    "    print(key, \":\", value)"
   ]
  },
  {
   "cell_type": "code",
   "execution_count": 67,
   "id": "bea27d22",
   "metadata": {},
   "outputs": [
    {
     "name": "stdout",
     "output_type": "stream",
     "text": [
      "Key 'name' exists\n"
     ]
    }
   ],
   "source": [
    "# Checking if a key exists\n",
    "if \"name\" in my_dict:\n",
    "    print(\"Key 'name' exists\")\n",
    "else:\n",
    "    print(\"Key 'name' does not exist\")"
   ]
  },
  {
   "cell_type": "code",
   "execution_count": 68,
   "id": "7634282f",
   "metadata": {},
   "outputs": [
    {
     "name": "stdout",
     "output_type": "stream",
     "text": [
      "3\n",
      "{}\n"
     ]
    }
   ],
   "source": [
    "# Getting the length of a dictionary\n",
    "print(len(my_dict))\n",
    "\n",
    "# Clearing a dictionary\n",
    "my_dict.clear()\n",
    "print(my_dict)  # Output: {} (empty dictionary)"
   ]
  },
  {
   "cell_type": "markdown",
   "id": "9996a40c-cd2b-4b65-b56a-42063b2e2604",
   "metadata": {},
   "source": [
    "### Dictionary Comprehensions"
   ]
  },
  {
   "cell_type": "code",
   "execution_count": 69,
   "id": "982b9995-a1ae-49fb-9d81-a24730e8a8db",
   "metadata": {},
   "outputs": [
    {
     "name": "stdout",
     "output_type": "stream",
     "text": [
      "{0: 0, 1: 1, 2: 4, 3: 9, 4: 16, 5: 25, 6: 36, 7: 49, 8: 64, 9: 81}\n",
      "{0: 0, 2: 4, 4: 16, 6: 36, 8: 64}\n",
      "{0: {0: 0, 1: 0, 2: 0}, 1: {0: 0, 1: 1, 2: 2}, 2: {0: 0, 1: 2, 2: 4}}\n"
     ]
    }
   ],
   "source": [
    "# Dictionary Comprehension\n",
    "squares = {x: x**2 for x in range(10)}\n",
    "print(squares) # Output: {0: 0, 1: 1, 2: 4, 3: 9, 4: 16, 5: 25, 6: 36, 7: 49, 8: 64, 9: 81}\n",
    "\n",
    "# Using conditional statement\n",
    "even_squares = {x: x**2 for x in range(10) if x % 2 == 0}\n",
    "print(even_squares) # Output: {0: 0, 2: 4, 4: 16, 6: 36, 8: 64}\n",
    "\n",
    "# Using nested loop\n",
    "nested_dict = {x: {y: x*y for y in range(3)} for x in range(3)}\n",
    "print(nested_dict) # Output: {0: {0: 0, 1: 0, 2: 0}, 1: {0: 0, 1: 1, 2: 2}, 2: {0: 0, 1: 2, 2: 4}}"
   ]
  },
  {
   "cell_type": "markdown",
   "id": "a9cd155b-9077-423a-8f23-9727b179ddcb",
   "metadata": {},
   "source": [
    "# Loops"
   ]
  },
  {
   "cell_type": "code",
   "execution_count": 70,
   "id": "80292dc2",
   "metadata": {},
   "outputs": [
    {
     "name": "stdout",
     "output_type": "stream",
     "text": [
      "0\n",
      "1\n",
      "2\n",
      "3\n",
      "4\n"
     ]
    }
   ],
   "source": [
    "# Loops in Python\n",
    "\n",
    "# Loops are used to execute a block of code repeatedly.\n",
    "\n",
    "# There are two main types of loops in Python:\n",
    "\n",
    "# 1. For loop:\n",
    "#    - Used to iterate over a sequence (e.g., list, tuple, string)\n",
    "#    - Executes the code block for each item in the sequence\n",
    "\n",
    "# Example:\n",
    "for i in range(5):\n",
    "    print(i)"
   ]
  },
  {
   "cell_type": "code",
   "execution_count": 71,
   "id": "1e88129e",
   "metadata": {},
   "outputs": [
    {
     "name": "stdout",
     "output_type": "stream",
     "text": [
      "0\n",
      "1\n",
      "2\n",
      "3\n",
      "4\n"
     ]
    }
   ],
   "source": [
    "# 2. While loop:\n",
    "#    - Used to execute a block of code as long as a condition is True\n",
    "#    - The condition is checked before each iteration\n",
    "\n",
    "# Example:\n",
    "i = 0\n",
    "while i < 5:\n",
    "    print(i)\n",
    "    i += 1"
   ]
  },
  {
   "cell_type": "code",
   "execution_count": 72,
   "id": "e55e9361",
   "metadata": {},
   "outputs": [
    {
     "name": "stdout",
     "output_type": "stream",
     "text": [
      "0\n",
      "1\n",
      "2\n",
      "3\n",
      "4\n"
     ]
    }
   ],
   "source": [
    "# Best Practices for Loops:\n",
    "\n",
    "# 1. For production use-cases, use meaningful variable names:\n",
    "#    - Make your code easier to understand\n",
    "#    - Example: instead of \"i\", use \"index\" or \"item\"\n",
    "\n",
    "# 2. Use the correct loop type:\n",
    "#    - Use a for loop when you know the number of iterations\n",
    "#    - Use a while loop when you don't know the number of iterations\n",
    "\n",
    "# 3. Avoid infinite loops:\n",
    "#    - Make sure your loop condition eventually becomes False\n",
    "#    - Example:\n",
    "#       while True:\n",
    "#           print(\"This loop will run forever!\")\n",
    "\n",
    "# 4. Use break and continue statements:\n",
    "#    - break: exits the loop immediately\n",
    "#    - continue: skips the current iteration and continues to the next\n",
    "\n",
    "# Example:\n",
    "for i in range(10):\n",
    "    if i == 5:\n",
    "        break\n",
    "    print(i)"
   ]
  },
  {
   "cell_type": "code",
   "execution_count": 73,
   "id": "f5df9ea9-c0eb-44fb-a120-be0697224239",
   "metadata": {},
   "outputs": [
    {
     "name": "stdout",
     "output_type": "stream",
     "text": [
      "Index: 0, Item: apple\n",
      "Index: 1, Item: banana\n",
      "Index: 2, Item: cherry\n"
     ]
    }
   ],
   "source": [
    "# 5. Use list comprehensions for concise code:\n",
    "#    - A compact way to create lists based on existing lists\n",
    "#    - Example:\n",
    "squares = [x**2 for x in range(10)]\n",
    "\n",
    "# 6. Use enumerate() to get both the index and value:\n",
    "#    - Example:\n",
    "for index, item in enumerate([\"apple\", \"banana\", \"cherry\"]):\n",
    "    print(f\"Index: {index}, Item: {item}\")"
   ]
  },
  {
   "cell_type": "markdown",
   "id": "272da2c6-8889-4590-9285-821c5058d055",
   "metadata": {},
   "source": [
    "# Read and Write Files"
   ]
  },
  {
   "cell_type": "code",
   "execution_count": 74,
   "id": "35b9ab6d",
   "metadata": {},
   "outputs": [
    {
     "name": "stdout",
     "output_type": "stream",
     "text": [
      "File written successfully!\n"
     ]
    }
   ],
   "source": [
    "# Open a file for writing\n",
    "f = open(\"sample_files/my_file.txt\", \"w\")\n",
    "\n",
    "# Write some text to the file\n",
    "f.write(\"This is some text to write to the file.\\n\")\n",
    "\n",
    "# Close the file\n",
    "f.close()\n",
    "print(\"File written successfully!\")"
   ]
  },
  {
   "cell_type": "code",
   "execution_count": 75,
   "id": "ea03eafd-c455-4e7a-854f-76d062e127fb",
   "metadata": {},
   "outputs": [
    {
     "name": "stdout",
     "output_type": "stream",
     "text": [
      "This is some text to write to the file.\n",
      "\n"
     ]
    }
   ],
   "source": [
    "# Read a file. Note the \"r\" option is the default setting in open function\n",
    "# so it can be skipped for reading.\n",
    "with open(\"sample_files/my_file.txt\", \"r\") as file:\n",
    "    contents = file.read()\n",
    "    print(contents)"
   ]
  },
  {
   "cell_type": "markdown",
   "id": "732d7006-af7d-4e71-ba57-89884980217a",
   "metadata": {},
   "source": [
    "# Exception Handling"
   ]
  },
  {
   "cell_type": "code",
   "execution_count": 76,
   "id": "300961ad",
   "metadata": {},
   "outputs": [
    {
     "name": "stdout",
     "output_type": "stream",
     "text": [
      "Invalid data type!\n"
     ]
    }
   ],
   "source": [
    "'''\n",
    "This code demonstrates the basic structure of exception handling in Python:\n",
    "\n",
    "1. **`try` block:** This block contains the code that might raise an exception.\n",
    "2. **`except` block:** This block is executed if an exception occurs within the `try` block. The `Exception` class is a general exception class, and you can specify more specific exception types to catch.\n",
    "3. **`else` block:** This block is executed if no exception occurs within the `try` block.\n",
    "4. **`finally` block:** This block is executed regardless of whether an exception occurred or not. It's often used to clean up resources, such as closing files or releasing connections.\n",
    "'''\n",
    "\n",
    "# This is a simple example, and you can customize the exception handling to suit your specific needs. \n",
    "# For example, you can catch different types of exceptions separately, log exceptions, or perform other actions based on the exception type.\n",
    "\n",
    "try:\n",
    "    # Toggle commenting in the below 2 lines to get ZeroDivisionError, TypeError and other Exceptions\n",
    "    # a = 1 / 0\n",
    "    b = round(\"Hello World\")\n",
    "    # c = [1, 2, 3][3]\n",
    "except ZeroDivisionError:\n",
    "    # Handle ZeroDivisionError specifically\n",
    "    print(\"Cannot divide by zero!\")\n",
    "except TypeError:\n",
    "    # Handle TypeError specifically\n",
    "    print(\"Invalid data type!\")\n",
    "except Exception as e:\n",
    "    # Handle other exceptions\n",
    "    print(f\"An exception occurred: {e}\")"
   ]
  },
  {
   "cell_type": "code",
   "execution_count": 77,
   "id": "1db8e1eb-edac-4ef4-b601-8abd144c5ccc",
   "metadata": {},
   "outputs": [
    {
     "ename": "IndexError",
     "evalue": "list index out of range",
     "output_type": "error",
     "traceback": [
      "\u001b[31m---------------------------------------------------------------------------\u001b[39m",
      "\u001b[31mIndexError\u001b[39m                                Traceback (most recent call last)",
      "\u001b[36mCell\u001b[39m\u001b[36m \u001b[39m\u001b[32mIn[77]\u001b[39m\u001b[32m, line 7\u001b[39m\n\u001b[32m      1\u001b[39m \u001b[33;03m\"\"\"\u001b[39;00m\n\u001b[32m      2\u001b[39m \u001b[33;03mThis code demonstrates how to log exceptions and re-raise them. \u001b[39;00m\n\u001b[32m      3\u001b[39m \u001b[33;03mThis allows you to record the exception for later analysis while still allowing the program to continue executing.\u001b[39;00m\n\u001b[32m      4\u001b[39m \u001b[33;03m\"\"\"\u001b[39;00m\n\u001b[32m      6\u001b[39m \u001b[38;5;28;01mtry\u001b[39;00m:\n\u001b[32m----> \u001b[39m\u001b[32m7\u001b[39m     c = \u001b[43m[\u001b[49m\u001b[32;43m1\u001b[39;49m\u001b[43m,\u001b[49m\u001b[43m \u001b[49m\u001b[32;43m2\u001b[39;49m\u001b[43m,\u001b[49m\u001b[43m \u001b[49m\u001b[32;43m3\u001b[39;49m\u001b[43m]\u001b[49m\u001b[43m[\u001b[49m\u001b[32;43m3\u001b[39;49m\u001b[43m]\u001b[49m\n\u001b[32m      8\u001b[39m \u001b[38;5;28;01mexcept\u001b[39;00m \u001b[38;5;167;01mException\u001b[39;00m \u001b[38;5;28;01mas\u001b[39;00m e:\n\u001b[32m      9\u001b[39m     \u001b[38;5;66;03m# Log the exception\u001b[39;00m\n\u001b[32m     10\u001b[39m     \u001b[38;5;28;01mimport\u001b[39;00m\u001b[38;5;250m \u001b[39m\u001b[34;01mlogging\u001b[39;00m\n",
      "\u001b[31mIndexError\u001b[39m: list index out of range"
     ]
    }
   ],
   "source": [
    "\n",
    "\n",
    "\"\"\"\n",
    "This code demonstrates how to log exceptions and re-raise them. \n",
    "This allows you to record the exception for later analysis while still allowing the program to continue executing.\n",
    "\"\"\"\n",
    "\n",
    "try:\n",
    "    c = [1, 2, 3][3]\n",
    "except Exception as e:\n",
    "    # Log the exception\n",
    "    import logging\n",
    "\n",
    "    # this code logs the error message to file error.log in same directory\n",
    "    logging.basicConfig(filename='sample_files/error.log', level=logging.ERROR)\n",
    "    logging.error(f\"An exception occurred: {e}\")\n",
    "\n",
    "    # Raise the exception again. \n",
    "    # If the below line is commented then the error will only be logged and not shown here\n",
    "    raise\n"
   ]
  },
  {
   "cell_type": "markdown",
   "id": "26e69f98-6920-4d18-9790-d74bea16dd52",
   "metadata": {},
   "source": [
    "# Regular Expression"
   ]
  },
  {
   "cell_type": "markdown",
   "id": "39b705f1",
   "metadata": {},
   "source": [
    "Regular expressions (regex) are a type of pattern that can be used to find, replace, or match specific characters or patterns in text."
   ]
  },
  {
   "cell_type": "code",
   "execution_count": 78,
   "id": "3e1fbad2-a358-4685-aa8b-1c0f384cc1e8",
   "metadata": {},
   "outputs": [
    {
     "name": "stdout",
     "output_type": "stream",
     "text": [
      "['quick', 'brown', 'fox', 'jumps', 'over', 'the', 'lazy', 'dog']\n"
     ]
    }
   ],
   "source": [
    "import re\n",
    "\n",
    "# Finding patterns such as all lower cased words in a sentence:\n",
    "text = \"The quick brown fox jumps over the lazy dog.\"\n",
    "pattern = r\"\\b[a-z]+\\b\"\n",
    "matches = re.findall(pattern, text)\n",
    "print(matches)  # Output: ['quick', 'brown', 'fox', 'jumps', 'over', 'lazy', 'dog']"
   ]
  },
  {
   "cell_type": "code",
   "execution_count": 79,
   "id": "003a0a25",
   "metadata": {},
   "outputs": [
    {
     "name": "stdout",
     "output_type": "stream",
     "text": [
      "Numbers: ['123']\n",
      "Text without special characters: This is a sample text with some numbers 123 and some special characters .\n",
      "Words starting with 's': ['sample', 'some', 'some', 'special']\n"
     ]
    }
   ],
   "source": [
    "# Find and replace example\n",
    "text = \"This is a sample text with some numbers 123 and some special characters !@#$%^&*().\"\n",
    "\n",
    "# Find all numbers\n",
    "numbers = re.findall(r\"\\d+\", text)\n",
    "print(\"Numbers:\", numbers)\n",
    "\n",
    "# Replace all special characters except . with spaces\n",
    "text = re.sub(r\"[^A-Za-z0-9\\s\\.]+\", \"\", text)\n",
    "print(\"Text without special characters:\", text)\n",
    "\n",
    "# Find all words starting with \"s\"\n",
    "words = re.findall(r\"\\bs\\w+\", text)\n",
    "print(\"Words starting with 's':\", words)"
   ]
  },
  {
   "cell_type": "markdown",
   "id": "9d682ea0",
   "metadata": {},
   "source": [
    "You can combine this with File read/write operations to replace string patterns in a file or across multiple files directly via python code. Regular Expressions is truly a superpower!!"
   ]
  },
  {
   "cell_type": "markdown",
   "id": "a7179d7c-cb93-4e98-bc31-c8b2ae3802df",
   "metadata": {},
   "source": [
    "# Classes"
   ]
  },
  {
   "cell_type": "code",
   "execution_count": 80,
   "id": "0b38f08a-e4bb-4e4f-8601-7441a4581c6d",
   "metadata": {},
   "outputs": [
    {
     "name": "stdout",
     "output_type": "stream",
     "text": [
      "My dog's name is Buddy and he is a Golden Retriever.\n",
      "Woof!\n"
     ]
    }
   ],
   "source": [
    "\n",
    "\"\"\"\n",
    "This code defines a simple `Dog` class with the following attributes and methods:\n",
    "\n",
    "* **Attributes:**\n",
    "    * `name`: The dog's name.\n",
    "    * `breed`: The dog's breed.\n",
    "* **Methods:**\n",
    "    * `__init__(self, name, breed)`: The constructor method that initializes the dog's name and breed.\n",
    "    * `bark(self)`: A method that prints \"Woof!\" to simulate the dog barking.\n",
    "\n",
    "The code then creates an instance of the `Dog` class named `my_dog` with the name \"Buddy\" and breed \"Golden Retriever\". It then prints the dog's name and breed and calls the `bark()` method to make the dog bark.\n",
    "\"\"\"\n",
    "\n",
    "\n",
    "class Dog:\n",
    "    \"\"\"A simple dog class.\"\"\"\n",
    "\n",
    "    def __init__(self, name, breed):\n",
    "        \"\"\"Initialize dog attributes.\"\"\"\n",
    "        self.name = name\n",
    "        self.breed = breed\n",
    "\n",
    "    def bark(self):\n",
    "        \"\"\"Simulate a dog barking.\"\"\"\n",
    "        print(\"Woof!\")\n",
    "\n",
    "my_dog = Dog(\"Buddy\", \"Golden Retriever\")\n",
    "print(f\"My dog's name is {my_dog.name} and he is a {my_dog.breed}.\")\n",
    "my_dog.bark()"
   ]
  },
  {
   "cell_type": "markdown",
   "id": "fb65aa3a-71c9-425f-b34c-01281362f6dd",
   "metadata": {},
   "source": [
    "# Advanced Libraries"
   ]
  },
  {
   "cell_type": "markdown",
   "id": "4f499ae0-9da7-4aad-99a8-c614623eaf3d",
   "metadata": {},
   "source": [
    "### Numpy"
   ]
  },
  {
   "cell_type": "code",
   "execution_count": null,
   "id": "6427b1a0-9254-403e-a1b6-9e874e077adb",
   "metadata": {},
   "outputs": [],
   "source": [
    "\"\"\"\n",
    "This is a basic introduction to NumPy, a powerful library for numerical computing in Python.\n",
    "This is just a glimpse of what NumPy can do. \n",
    "Explore the documentation for more advanced features and applications.\n",
    "\"\"\"\n",
    "\n",
    "import numpy as np\n",
    "\n",
    "# Creating arrays\n",
    "arr1 = np.array([1, 2, 3, 4, 5])\n",
    "arr2 = np.arange(10)  # Creates an array from 0 to 9\n",
    "arr3 = np.zeros(5)  # Creates an array of zeros\n",
    "arr4 = np.ones(3)  # Creates an array of ones\n",
    "\n",
    "# Accessing elements\n",
    "print(arr1)\n",
    "print(arr1[0])  # Accessing the first element\n",
    "print(arr2[0:5])  # Slicing the array\n",
    "\n",
    "# Basic operations\n",
    "print(arr1 + arr2[0:5])  # Element-wise addition\n",
    "print(arr1 * 2)  # Multiplication by a scalar\n",
    "\n",
    "# Mathematical functions\n",
    "print(np.mean(arr1))  # Calculating the mean\n",
    "print(np.std(arr1))  # Calculating the standard deviation\n",
    "\n",
    "# Reshaping arrays\n",
    "arr5 = np.arange(12).reshape(3, 4)  # Reshaping into a 3x4 matrix\n",
    "\n",
    "# Matrix operations\n",
    "print(arr5.T)  # Transposing the matrix\n",
    "print(np.dot(arr5, arr5.T))  # Matrix multiplication\n",
    "\n",
    "# Random number generation\n",
    "random_arr = np.random.rand(5)  # Generating random numbers between 0 and 1\n",
    "\n",
    "# More advanced features:\n",
    "# - Broadcasting\n",
    "# - Linear algebra operations\n",
    "# - Fourier transforms\n",
    "# - Image processing"
   ]
  },
  {
   "cell_type": "markdown",
   "id": "415fa6e9-b925-4e51-9037-11ad6b521d7d",
   "metadata": {},
   "source": [
    "### Pandas"
   ]
  },
  {
   "cell_type": "code",
   "execution_count": null,
   "id": "1405d324-e7ec-4a9d-b1cf-5d5ffb6a8fdd",
   "metadata": {},
   "outputs": [],
   "source": [
    "import pandas as pd\n",
    "\n",
    "# Sample DataFrame\n",
    "data = {'Name': ['Alice', 'Bob', 'Charlie', 'David'],\n",
    "        'Age': [25, 30, 22, 28],\n",
    "        'City': ['New York', 'London', 'Paris', 'Tokyo'],\n",
    "        'Date': ['2023-03-15', '2023-04-20', '2023-05-10', '2023-06-05']}\n",
    "df = pd.DataFrame(data)"
   ]
  },
  {
   "cell_type": "code",
   "execution_count": null,
   "id": "4d05389a",
   "metadata": {},
   "outputs": [],
   "source": [
    "# Head\n",
    "df.head(2)  # Display the first 2 rows"
   ]
  },
  {
   "cell_type": "code",
   "execution_count": null,
   "id": "a27c7d84-6922-4d9c-8e9f-565e736e9990",
   "metadata": {},
   "outputs": [],
   "source": [
    "# iloc\n",
    "df.iloc[1:3, 1:3]  # Select rows 1 to 2 (excluding 3) and columns 1 to 2 (excluding 3)"
   ]
  },
  {
   "cell_type": "code",
   "execution_count": null,
   "id": "022d07bc",
   "metadata": {},
   "outputs": [],
   "source": [
    "# Summary\n",
    "df.describe()  # Generate descriptive statistics for numeric and date columns"
   ]
  },
  {
   "cell_type": "code",
   "execution_count": null,
   "id": "688d7b10",
   "metadata": {},
   "outputs": [],
   "source": [
    "# Average\n",
    "df['Age'].mean()  # Calculate the average age"
   ]
  },
  {
   "cell_type": "code",
   "execution_count": null,
   "id": "695f1d5d",
   "metadata": {},
   "outputs": [],
   "source": [
    "# Date Functions\n",
    "df['Date'] = pd.to_datetime(df['Date'])  # Convert 'Date' column to datetime objects\n",
    "df['Date'].dt.year  # Extract the year from the 'Date' column"
   ]
  },
  {
   "cell_type": "markdown",
   "id": "52878c23",
   "metadata": {},
   "source": [
    "### Matplotlib"
   ]
  },
  {
   "cell_type": "code",
   "execution_count": null,
   "id": "0d4a2902",
   "metadata": {},
   "outputs": [],
   "source": [
    "\"\"\"\n",
    "This code imports the `matplotlib.pyplot` module, creates sample data, plots a line graph, \n",
    "sets the title and labels, and then displays the plot. \n",
    "You can modify this code to create different types of plots, customize the appearance, \n",
    "and work with your own data.\n",
    "Matplotlib also integrates seamlessly with numpy arrays and pandas dataframes.\n",
    "\"\"\"\n",
    "\n",
    "import matplotlib.pyplot as plt\n",
    "\n",
    "# Sample data\n",
    "x = [1, 2, 3, 4, 5]\n",
    "y = [2, 4, 6, 8, 10]\n",
    "\n",
    "# Create a line plot\n",
    "plt.plot(x, y)\n",
    "\n",
    "# Set the title and labels\n",
    "plt.title(\"Sample Line Plot\")\n",
    "plt.xlabel(\"X-axis\")\n",
    "plt.ylabel(\"Y-axis\")\n",
    "\n",
    "# Display the plot\n",
    "plt.show()\n"
   ]
  },
  {
   "cell_type": "code",
   "execution_count": null,
   "id": "3d905132",
   "metadata": {},
   "outputs": [],
   "source": [
    "# Same plot with numpy\n",
    "x_np_arr = np.array(x)\n",
    "y_np_arr = np.array(y)\n",
    "\n",
    "# Create a line plot\n",
    "plt.plot(x_np_arr, y_np_arr)\n",
    "\n",
    "# Set the title and labels\n",
    "plt.title(\"Sample Line Plot with Numpy arrays\")\n",
    "plt.xlabel(\"X-axis\")\n",
    "plt.ylabel(\"Y-axis\")\n",
    "\n",
    "# Display the plot\n",
    "plt.show()"
   ]
  },
  {
   "cell_type": "code",
   "execution_count": null,
   "id": "321e4dc3",
   "metadata": {},
   "outputs": [],
   "source": [
    "# Same plot with pandas\n",
    "df = pd.DataFrame({\"x\": x, \"y\": y})\n",
    "\n",
    "# Create a line plot\n",
    "plt.plot(df[\"x\"], df[\"y\"])\n",
    "\n",
    "# Set the title and labels\n",
    "plt.title(\"Sample Line Plot with Pandas Dataframe\")\n",
    "plt.xlabel(\"X-axis\")\n",
    "plt.ylabel(\"Y-axis\")\n",
    "\n",
    "# Display the plot\n",
    "plt.show()"
   ]
  },
  {
   "cell_type": "code",
   "execution_count": null,
   "id": "67f98f96",
   "metadata": {},
   "outputs": [],
   "source": []
  }
 ],
 "metadata": {
  "kernelspec": {
   "display_name": "Python 3 (ipykernel)",
   "language": "python",
   "name": "python3"
  },
  "language_info": {
   "codemirror_mode": {
    "name": "ipython",
    "version": 3
   },
   "file_extension": ".py",
   "mimetype": "text/x-python",
   "name": "python",
   "nbconvert_exporter": "python",
   "pygments_lexer": "ipython3",
   "version": "3.13.2"
  }
 },
 "nbformat": 4,
 "nbformat_minor": 5
}
